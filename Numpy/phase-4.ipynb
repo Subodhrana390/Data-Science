{
 "cells": [
  {
   "cell_type": "code",
   "execution_count": 1,
   "id": "ffb429fe",
   "metadata": {},
   "outputs": [],
   "source": [
    "import numpy as np\n",
    "import matplotlib.pyplot as plt"
   ]
  },
  {
   "cell_type": "code",
   "execution_count": 3,
   "id": "1ffdce4b",
   "metadata": {},
   "outputs": [
    {
     "name": "stdout",
     "output_type": "stream",
     "text": [
      "Array 1:\n",
      " [1 2 3 4 5]\n",
      "\n",
      "Array 2 (Random):\n",
      " [0.8724846  0.69800205 0.67808788 0.46580998]\n",
      "\n",
      "Array 3 (Zeros 4x4):\n",
      " [[0. 0. 0. 0.]\n",
      " [0. 0. 0. 0.]\n",
      " [0. 0. 0. 0.]\n",
      " [0. 0. 0. 0.]]\n"
     ]
    }
   ],
   "source": [
    "array1 = np.array([1, 2, 3, 4, 5])\n",
    "array2 = np.random.rand(4,4)\n",
    "array3 = np.zeros((4,4))\n",
    "\n",
    "array1 = np.array([1, 2, 3, 4, 5])     \n",
    "array2 = np.random.rand(4)        \n",
    "array3 = np.zeros((4,4))               \n",
    "\n",
    "print(\"Array 1:\\n\", array1)\n",
    "print(\"\\nArray 2 (Random):\\n\", array2)\n",
    "print(\"\\nArray 3 (Zeros 4x4):\\n\", array3)\n",
    " "
   ]
  },
  {
   "cell_type": "code",
   "execution_count": null,
   "id": "8d7d946b",
   "metadata": {},
   "outputs": [],
   "source": [
    "np.save('array1.npy', array1)"
   ]
  },
  {
   "cell_type": "code",
   "execution_count": 4,
   "id": "2e9a4824",
   "metadata": {},
   "outputs": [
    {
     "name": "stdout",
     "output_type": "stream",
     "text": [
      "[1 2 3 4 5]\n"
     ]
    }
   ],
   "source": [
    "loaded_array = np.load('array1.npy')\n",
    "print(loaded_array)"
   ]
  },
  {
   "cell_type": "code",
   "execution_count": null,
   "id": "bfdc5f1a",
   "metadata": {},
   "outputs": [],
   "source": []
  }
 ],
 "metadata": {
  "kernelspec": {
   "display_name": "venv",
   "language": "python",
   "name": "python3"
  },
  "language_info": {
   "codemirror_mode": {
    "name": "ipython",
    "version": 3
   },
   "file_extension": ".py",
   "mimetype": "text/x-python",
   "name": "python",
   "nbconvert_exporter": "python",
   "pygments_lexer": "ipython3",
   "version": "3.13.0"
  }
 },
 "nbformat": 4,
 "nbformat_minor": 5
}
