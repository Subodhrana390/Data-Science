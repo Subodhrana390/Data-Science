{
 "cells": [
  {
   "cell_type": "markdown",
   "id": "1edc7012",
   "metadata": {},
   "source": [
    "## Indexing and Silicing ###"
   ]
  },
  {
   "cell_type": "code",
   "execution_count": 3,
   "id": "073c5bbf",
   "metadata": {},
   "outputs": [],
   "source": [
    "import numpy as np"
   ]
  },
  {
   "cell_type": "code",
   "execution_count": 7,
   "id": "b4fa0189",
   "metadata": {},
   "outputs": [
    {
     "name": "stdout",
     "output_type": "stream",
     "text": [
      "Basic Silicing :  [2 3 4 5 6]\n",
      "With Step [2 4 6]\n",
      "Negative Indexing :  7\n"
     ]
    }
   ],
   "source": [
    "arr = np.arange(10);\n",
    "print(\"Basic Silicing : \",arr[2:7])\n",
    "print(\"With Step\",arr[2:7:2])\n",
    "print(\"Negative Indexing : \",arr[-3])"
   ]
  },
  {
   "cell_type": "markdown",
   "id": "07e2826c",
   "metadata": {},
   "source": [
    "## 2D Array Silicing"
   ]
  },
  {
   "cell_type": "code",
   "execution_count": 17,
   "id": "d19313cd",
   "metadata": {},
   "outputs": [
    {
     "name": "stdout",
     "output_type": "stream",
     "text": [
      "[[1 2 3]\n",
      " [4 5 6]\n",
      " [7 8 9]]\n",
      "Specific Element :  6\n",
      "Whole Row :  [4 5 6]\n",
      "Whole Column :  [3 6 9]\n"
     ]
    }
   ],
   "source": [
    "arr_2d = np.array([[1,2,3],[4,5,6],[7,8,9]])\n",
    "print(arr_2d)\n",
    "\n",
    "print(\"Specific Element : \",arr_2d[1,2])\n",
    "print(\"Whole Row : \",arr_2d[1])\n",
    "print(\"Whole Column : \",arr_2d[:,2])"
   ]
  },
  {
   "cell_type": "markdown",
   "id": "f7ea0f43",
   "metadata": {},
   "source": [
    "# Sorting"
   ]
  },
  {
   "cell_type": "code",
   "execution_count": 18,
   "id": "70c7976c",
   "metadata": {},
   "outputs": [
    {
     "name": "stdout",
     "output_type": "stream",
     "text": [
      "Sorted Array :  [ 1  2  3  4  5  6  8 10]\n"
     ]
    }
   ],
   "source": [
    "unsorted = np.array([3,1,4,6,5,8,2,10])\n",
    "print(\"Sorted Array : \",np.sort(unsorted))"
   ]
  },
  {
   "cell_type": "code",
   "execution_count": 24,
   "id": "ba68b4f1",
   "metadata": {},
   "outputs": [
    {
     "name": "stdout",
     "output_type": "stream",
     "text": [
      "[[3 1]\n",
      " [1 2]\n",
      " [2 3]]\n",
      "2D Sorted Array By Column :  [[1 1]\n",
      " [2 2]\n",
      " [3 3]]\n",
      "2D Sorted Array By Row :  [[1 3]\n",
      " [1 2]\n",
      " [2 3]]\n"
     ]
    }
   ],
   "source": [
    "arr_2d = np.array([[3,1],[1,2],[2,3]])\n",
    "print(arr_2d)\n",
    "\n",
    "print(\"2D Sorted Array By Column : \",np.sort(arr_2d,axis=0))\n",
    "print(\"2D Sorted Array By Row : \",np.sort(arr_2d,axis=1))"
   ]
  },
  {
   "cell_type": "markdown",
   "id": "aae004e1",
   "metadata": {},
   "source": []
  },
  {
   "cell_type": "markdown",
   "id": "40018793",
   "metadata": {},
   "source": [
    "# Filtering"
   ]
  },
  {
   "cell_type": "code",
   "execution_count": 25,
   "id": "aba61694",
   "metadata": {},
   "outputs": [
    {
     "name": "stdout",
     "output_type": "stream",
     "text": [
      "Even Numbers :  [ 2  4  6  8 10]\n"
     ]
    }
   ],
   "source": [
    "numbers = np.array([1,2,3,4,5,6,7,8,9,10])\n",
    "print(\"Even Numbers : \",numbers[numbers%2==0])"
   ]
  },
  {
   "cell_type": "markdown",
   "id": "1db5561d",
   "metadata": {},
   "source": [
    "#  Filter with mask"
   ]
  },
  {
   "cell_type": "code",
   "execution_count": 28,
   "id": "f9948ed7",
   "metadata": {},
   "outputs": [
    {
     "name": "stdout",
     "output_type": "stream",
     "text": [
      "Mask :  [False  True False  True False  True False  True False  True]\n",
      "Even Numbers Using Mask :  [ 2  4  6  8 10]\n"
     ]
    }
   ],
   "source": [
    "mask = numbers%2==0\n",
    "print(\"Mask : \",mask)\n",
    "print(\"Even Numbers Using Mask : \",numbers[mask])"
   ]
  },
  {
   "cell_type": "markdown",
   "id": "c7a89a86",
   "metadata": {},
   "source": [
    "## Fancing  Indexing  vs np.wjhere()"
   ]
  },
  {
   "cell_type": "code",
   "execution_count": 33,
   "id": "a91f0c7e",
   "metadata": {},
   "outputs": [
    {
     "name": "stdout",
     "output_type": "stream",
     "text": [
      "Elements at Specific Indices :  [2 4 6 8]\n",
      "Indices of Even Numbers :  [ 6  7  8  9 10]\n"
     ]
    }
   ],
   "source": [
    "indices = [1,3,5,7]\n",
    "print(\"Elements at Specific Indices : \",numbers[indices])\n",
    "\n",
    "# numbers  --- IGNORE ---\n",
    "where_even = np.where(numbers>5)\n",
    "print(\"Indices of Even Numbers : \",numbers[where_even])"
   ]
  },
  {
   "cell_type": "markdown",
   "id": "dec87202",
   "metadata": {},
   "source": [
    "# Conditions "
   ]
  },
  {
   "cell_type": "code",
   "execution_count": 40,
   "id": "8a3e4f13",
   "metadata": {},
   "outputs": [
    {
     "name": "stdout",
     "output_type": "stream",
     "text": [
      "Conditions :  [ 1  2  3  4  5 12 14 16 18 20]\n"
     ]
    }
   ],
   "source": [
    "conditions = np.where(numbers>5,numbers*2,numbers)\n",
    "print(\"Conditions : \",conditions)"
   ]
  },
  {
   "cell_type": "markdown",
   "id": "a920b647",
   "metadata": {},
   "source": [
    "# Adding and removing Data"
   ]
  },
  {
   "cell_type": "code",
   "execution_count": 43,
   "id": "478fbcc2",
   "metadata": {},
   "outputs": [
    {
     "name": "stdout",
     "output_type": "stream",
     "text": [
      "Concatenated Array :  [ 1  2  3  4  5  6  7  8  9 10]\n"
     ]
    }
   ],
   "source": [
    "arr = np.array([1,2,3,4,5])\n",
    "arr2=np.array([6,7,8,9,10])\n",
    "print(\"Concatenated Array : \",np.concatenate((arr,arr2)))\n"
   ]
  },
  {
   "cell_type": "markdown",
   "id": "d1e85924",
   "metadata": {},
   "source": [
    "###  Array Compatibility  ###"
   ]
  },
  {
   "cell_type": "code",
   "execution_count": 50,
   "id": "a018367e",
   "metadata": {},
   "outputs": [
    {
     "name": "stdout",
     "output_type": "stream",
     "text": [
      "Compatibilty shape :  True\n"
     ]
    }
   ],
   "source": [
    "a = np.array([1,2,3,4,5])\n",
    "b= np.array([6,7,8,9,10])\n",
    "c = np.array([11,12,13,14,15])\n",
    "print(\"Compatibilty shape : \",a.shape==b.shape)\n"
   ]
  },
  {
   "cell_type": "markdown",
   "id": "9789f8df",
   "metadata": {},
   "source": [
    "# Compatibility shape :  False"
   ]
  },
  {
   "cell_type": "code",
   "execution_count": 58,
   "id": "88c658da",
   "metadata": {},
   "outputs": [
    {
     "name": "stdout",
     "output_type": "stream",
     "text": [
      "Original Array :  [[1 2]\n",
      " [3 4]]\n",
      "Array after Adding Row :  [[1 2]\n",
      " [3 4]\n",
      " [5 6]]\n",
      "Array after Adding Column :  [[1 2 7]\n",
      " [3 4 8]\n",
      " [5 6 9]]\n"
     ]
    }
   ],
   "source": [
    "original = np.array([[1,2],[3,4]])\n",
    "print(\"Original Array : \",original)\n",
    "new_row = np.array([[5,6]])\n",
    "print(\"Array after Adding Row : \",np.vstack((original,new_row)))\n",
    "new_col = np.array([[7],[8],[9]])\n",
    "original_expanded = np.vstack((original, new_row))\n",
    "print(\"Array after Adding Column : \",np.hstack((original_expanded,new_col)))"
   ]
  },
  {
   "cell_type": "markdown",
   "id": "fede19c0",
   "metadata": {},
   "source": [
    "### Delete Element"
   ]
  },
  {
   "cell_type": "code",
   "execution_count": 59,
   "id": "529ea032",
   "metadata": {},
   "outputs": [
    {
     "name": "stdout",
     "output_type": "stream",
     "text": [
      "Array after Deleting Element at Index 2 :  [1 2 4 5]\n"
     ]
    }
   ],
   "source": [
    "arr = np.array([1,2,3,4,5])\n",
    "deleted_element = np.delete(arr,2)\n",
    "print(\"Array after Deleting Element at Index 2 : \",deleted_element)"
   ]
  }
 ],
 "metadata": {
  "kernelspec": {
   "display_name": "venv",
   "language": "python",
   "name": "python3"
  },
  "language_info": {
   "codemirror_mode": {
    "name": "ipython",
    "version": 3
   },
   "file_extension": ".py",
   "mimetype": "text/x-python",
   "name": "python",
   "nbconvert_exporter": "python",
   "pygments_lexer": "ipython3",
   "version": "3.13.0"
  }
 },
 "nbformat": 4,
 "nbformat_minor": 5
}
