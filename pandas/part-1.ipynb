{
 "cells": [
  {
   "cell_type": "code",
   "execution_count": 31,
   "id": "bd592539",
   "metadata": {},
   "outputs": [],
   "source": [
    "import pandas as pd"
   ]
  },
  {
   "cell_type": "code",
   "execution_count": 32,
   "id": "a856ee82",
   "metadata": {},
   "outputs": [
    {
     "name": "stdout",
     "output_type": "stream",
     "text": [
      "Display 10 rows of First\n",
      "   id                                         name  \\\n",
      "0   1                              Apple iPhone 12   \n",
      "1   2                           Samsung Galaxy S21   \n",
      "2   3                           Sony PlayStation 5   \n",
      "3   4            LG OLED55CXPUA 55-inch 4K OLED TV   \n",
      "4   5  Bose QuietComfort 35 II Wireless Headphones   \n",
      "5   6                    Fitbit Versa 3 Smartwatch   \n",
      "6   7                       KitchenAid Stand Mixer   \n",
      "7   8           Dyson V11 Absolute Cordless Vacuum   \n",
      "8   9                   Ninja Foodi Smart XL Grill   \n",
      "9  10              Canon EOS Rebel T8i DSLR Camera   \n",
      "\n",
      "                                         description    price  \\\n",
      "0  The Apple iPhone 12 features a 6.1-inch Super ...   999.00   \n",
      "1  The Samsung Galaxy S21 features a 6.2-inch Dyn...   799.00   \n",
      "2  The Sony PlayStation 5 features an AMD Zen 2-b...   499.99   \n",
      "3  The LG OLED55CXPUA 55-inch 4K OLED TV features...  1599.99   \n",
      "4  The Bose QuietComfort 35 II Wireless Headphone...   299.00   \n",
      "5  The Fitbit Versa 3 Smartwatch features a built...   229.95   \n",
      "6  The KitchenAid Stand Mixer features a 5-quart ...   399.99   \n",
      "7  The Dyson V11 Absolute Cordless Vacuum feature...   699.99   \n",
      "8  The Ninja Foodi Smart XL Grill features 6-in-1...   279.99   \n",
      "9  The Canon EOS Rebel T8i DSLR Camera features a...   899.00   \n",
      "\n",
      "          category                                              image  \n",
      "0      Electronics  https://www.apple.com/newsroom/images/product/...  \n",
      "1      Electronics  https://images.samsung.com/is/image/samsung/p6...  \n",
      "2      Electronics  https://www.sony.com/image/44baa604124b770c824...  \n",
      "3      Electronics  https://www.lg.com/us/images/tvs/md07501804/ga...  \n",
      "4      Electronics  https://assets.bose.com/content/dam/Bose_DAM/W...  \n",
      "5      Electronics  https://www.fitbit.com/global/content/dam/fitb...  \n",
      "6   Home & Kitchen  https://www.kitchenaid.com/content/dam/global/...  \n",
      "7  Home Appliances  https://www.dysoncanada.ca/dam/dyson/images/pr...  \n",
      "8   Home & Kitchen  https://www.ninjakitchen.com/medias/Ninja-OP50...  \n",
      "9      Electronics  https://www.canon.com.au/-/media/images/produc...  \n"
     ]
    }
   ],
   "source": [
    "df = pd.read_json(\"sample_Data.json\")\n",
    "\n",
    "print(\"Display 10 rows of First\")\n",
    "print(df.head(10))"
   ]
  },
  {
   "cell_type": "code",
   "execution_count": 33,
   "id": "f9767e8c",
   "metadata": {},
   "outputs": [
    {
     "name": "stdout",
     "output_type": "stream",
     "text": [
      "<class 'pandas.core.frame.DataFrame'>\n",
      "RangeIndex: 20 entries, 0 to 19\n",
      "Data columns (total 6 columns):\n",
      " #   Column       Non-Null Count  Dtype  \n",
      "---  ------       --------------  -----  \n",
      " 0   id           20 non-null     int64  \n",
      " 1   name         20 non-null     object \n",
      " 2   description  20 non-null     object \n",
      " 3   price        20 non-null     float64\n",
      " 4   category     20 non-null     object \n",
      " 5   image        20 non-null     object \n",
      "dtypes: float64(1), int64(1), object(4)\n",
      "memory usage: 1.1+ KB\n",
      "None\n"
     ]
    }
   ],
   "source": [
    "print(df.info())"
   ]
  },
  {
   "cell_type": "code",
   "execution_count": 45,
   "id": "aebb92bd",
   "metadata": {},
   "outputs": [
    {
     "name": "stdout",
     "output_type": "stream",
     "text": [
      "    id                                               name                                        description    price         category                                              image\n",
      "0    1                                    Apple iPhone 12  The Apple iPhone 12 features a 6.1-inch Super ...   999.00      Electronics  https://www.apple.com/newsroom/images/product/...\n",
      "1    2                                 Samsung Galaxy S21  The Samsung Galaxy S21 features a 6.2-inch Dyn...   799.00      Electronics  https://images.samsung.com/is/image/samsung/p6...\n",
      "2    3                                 Sony PlayStation 5  The Sony PlayStation 5 features an AMD Zen 2-b...   499.99      Electronics  https://www.sony.com/image/44baa604124b770c824...\n",
      "3    4                  LG OLED55CXPUA 55-inch 4K OLED TV  The LG OLED55CXPUA 55-inch 4K OLED TV features...  1599.99      Electronics  https://www.lg.com/us/images/tvs/md07501804/ga...\n",
      "4    5        Bose QuietComfort 35 II Wireless Headphones  The Bose QuietComfort 35 II Wireless Headphone...   299.00      Electronics  https://assets.bose.com/content/dam/Bose_DAM/W...\n",
      "5    6                          Fitbit Versa 3 Smartwatch  The Fitbit Versa 3 Smartwatch features a built...   229.95      Electronics  https://www.fitbit.com/global/content/dam/fitb...\n",
      "6    7                             KitchenAid Stand Mixer  The KitchenAid Stand Mixer features a 5-quart ...   399.99   Home & Kitchen  https://www.kitchenaid.com/content/dam/global/...\n",
      "7    8                 Dyson V11 Absolute Cordless Vacuum  The Dyson V11 Absolute Cordless Vacuum feature...   699.99  Home Appliances  https://www.dysoncanada.ca/dam/dyson/images/pr...\n",
      "8    9                         Ninja Foodi Smart XL Grill  The Ninja Foodi Smart XL Grill features 6-in-1...   279.99   Home & Kitchen  https://www.ninjakitchen.com/medias/Ninja-OP50...\n",
      "9   10                    Canon EOS Rebel T8i DSLR Camera  The Canon EOS Rebel T8i DSLR Camera features a...   899.00      Electronics  https://www.canon.com.au/-/media/images/produc...\n",
      "10  11                                  Apple AirPods Pro  The Apple AirPods Pro feature active noise can...   249.00      Electronics  https://www.apple.com/v/airpods-pro/b/images/m...\n",
      "11  12        Bose QuietComfort 35 II Wireless Headphones  The Bose QuietComfort 35 II Wireless Headphone...   299.00      Electronics  https://assets.bose.com/content/dam/Bose_DAM/W...\n",
      "12  13                    Fitbit Charge 4 Fitness Tracker  The Fitbit Charge 4 Fitness Tracker features G...   129.95      Electronics  https://www.fitbit.com/global/content/dam/fitb...\n",
      "13  14                              Samsung Galaxy Watch3  The Samsung Galaxy Watch3 features a rotating ...   399.99      Electronics  https://images.samsung.com/is/image/samsung/as...\n",
      "14  15  Sony WH-1000XM4 Wireless Noise-Cancelling Head...  The Sony WH-1000XM4 Wireless Noise-Cancelling ...   349.99      Electronics  https://www.sony.com/image/1cdd6354c4cd21cc4f7...\n",
      "15  16          Breville Barista Express Espresso Machine  The Breville Barista Express Espresso Machine ...   699.95   Home & Kitchen  https://www.breville.com/content/dam/breville/...\n",
      "16  17                        Keurig K-Elite Coffee Maker  The Keurig K-Elite Coffee Maker features a str...   169.99   Home & Kitchen  https://www.keurig.com/content/dam/global-ecom...\n",
      "17  18                     iRobot Roomba i7+ Robot Vacuum  The iRobot Roomba i7+ Robot Vacuum features au...   799.99   Home & Kitchen  https://store.irobot.com/default/i7-vacuuming-...\n",
      "18  19                   Ninja Foodi Digital Air Fry Oven  The Ninja Foodi Digital Air Fry Oven features ...   209.99   Home & Kitchen  https://www.ninjakitchen.com/static/img/produc...\n",
      "19  20                   Cuisinart ICE-70 Ice Cream Maker  The Cuisinart ICE-70 Ice Cream Maker features ...   139.99   Home & Kitchen  https://www.cuisinart.com/share/images/product...\n"
     ]
    }
   ],
   "source": [
    "pd.set_option('display.max_rows', None)\n",
    "pd.set_option('display.max_columns', None)\n",
    "pd.set_option('display.width', 1000)\n",
    "\n",
    "print(df)"
   ]
  },
  {
   "cell_type": "code",
   "execution_count": 35,
   "id": "adc85e86",
   "metadata": {},
   "outputs": [
    {
     "name": "stdout",
     "output_type": "stream",
     "text": [
      "             id        price\n",
      "count  20.00000    20.000000\n",
      "mean   10.50000   507.687000\n",
      "std     5.91608   373.008199\n",
      "min     1.00000   129.950000\n",
      "25%     5.75000   244.237500\n",
      "50%    10.50000   374.990000\n",
      "75%    15.25000   724.742500\n",
      "max    20.00000  1599.990000\n"
     ]
    }
   ],
   "source": [
    "print(df.describe())"
   ]
  },
  {
   "cell_type": "code",
   "execution_count": 36,
   "id": "641b96ee",
   "metadata": {},
   "outputs": [
    {
     "name": "stdout",
     "output_type": "stream",
     "text": [
      "Shape : (20, 6)\n",
      "Columns Names : Index(['id', 'name', 'description', 'price', 'category', 'image'], dtype='object')\n"
     ]
    }
   ],
   "source": [
    "print(f'Shape : {df.shape}')\n",
    "print(f'Columns Names : {df.columns}')"
   ]
  },
  {
   "cell_type": "markdown",
   "id": "afcda974",
   "metadata": {},
   "source": [
    "# select specific column \n",
    "# filter rows\n",
    "# Combine multiple condition"
   ]
  },
  {
   "cell_type": "code",
   "execution_count": null,
   "id": "e9679c04",
   "metadata": {},
   "outputs": [
    {
     "name": "stdout",
     "output_type": "stream",
     "text": [
      "                                                 name    price\n",
      "0                                     Apple iPhone 12   999.00\n",
      "1                                  Samsung Galaxy S21   799.00\n",
      "2                                  Sony PlayStation 5   499.99\n",
      "3                   LG OLED55CXPUA 55-inch 4K OLED TV  1599.99\n",
      "4         Bose QuietComfort 35 II Wireless Headphones   299.00\n",
      "5                           Fitbit Versa 3 Smartwatch   229.95\n",
      "6                              KitchenAid Stand Mixer   399.99\n",
      "7                  Dyson V11 Absolute Cordless Vacuum   699.99\n",
      "8                          Ninja Foodi Smart XL Grill   279.99\n",
      "9                     Canon EOS Rebel T8i DSLR Camera   899.00\n",
      "10                                  Apple AirPods Pro   249.00\n",
      "11        Bose QuietComfort 35 II Wireless Headphones   299.00\n",
      "12                    Fitbit Charge 4 Fitness Tracker   129.95\n",
      "13                              Samsung Galaxy Watch3   399.99\n",
      "14  Sony WH-1000XM4 Wireless Noise-Cancelling Head...   349.99\n",
      "15          Breville Barista Express Espresso Machine   699.95\n",
      "16                        Keurig K-Elite Coffee Maker   169.99\n",
      "17                     iRobot Roomba i7+ Robot Vacuum   799.99\n",
      "18                   Ninja Foodi Digital Air Fry Oven   209.99\n",
      "19                   Cuisinart ICE-70 Ice Cream Maker   139.99\n"
     ]
    }
   ],
   "source": [
    "subset = df[[\"name\", \"price\"]]\n",
    "print(subset)\n"
   ]
  },
  {
   "cell_type": "markdown",
   "id": "0bd72ccb",
   "metadata": {},
   "source": [
    "# based on single condn"
   ]
  },
  {
   "cell_type": "code",
   "execution_count": 43,
   "id": "d1d4f6ef",
   "metadata": {},
   "outputs": [
    {
     "name": "stdout",
     "output_type": "stream",
     "text": [
      "2         Sony PlayStation 5\n",
      "6     KitchenAid Stand Mixer\n",
      "13     Samsung Galaxy Watch3\n",
      "Name: name, dtype: object\n"
     ]
    }
   ],
   "source": [
    "filtered_row = df[(df['price'] >= 350) & (df['price'] <= 500)]\n",
    "print(filtered_row['name'])\n"
   ]
  },
  {
   "cell_type": "code",
   "execution_count": 46,
   "id": "77488136",
   "metadata": {},
   "outputs": [
    {
     "name": "stdout",
     "output_type": "stream",
     "text": [
      "12     Fitbit Charge 4 Fitness Tracker\n",
      "16         Keurig K-Elite Coffee Maker\n",
      "19    Cuisinart ICE-70 Ice Cream Maker\n",
      "Name: name, dtype: object\n"
     ]
    }
   ],
   "source": [
    "filterd_row = df[df['price']<200]\n",
    "print(filterd_row['name'])"
   ]
  }
 ],
 "metadata": {
  "kernelspec": {
   "display_name": "venv",
   "language": "python",
   "name": "python3"
  },
  "language_info": {
   "codemirror_mode": {
    "name": "ipython",
    "version": 3
   },
   "file_extension": ".py",
   "mimetype": "text/x-python",
   "name": "python",
   "nbconvert_exporter": "python",
   "pygments_lexer": "ipython3",
   "version": "3.13.0"
  }
 },
 "nbformat": 4,
 "nbformat_minor": 5
}
