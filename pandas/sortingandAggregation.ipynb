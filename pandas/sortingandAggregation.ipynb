{
 "cells": [
  {
   "cell_type": "code",
   "execution_count": 27,
   "id": "a9fd0f30",
   "metadata": {},
   "outputs": [],
   "source": [
    "import pandas as pd\n",
    "import numpy as np\n",
    "\n",
    "# data = {\n",
    "#     \"name\": [\"Alice\", \"Bob\", \"Charlie\", \"Diana\", \"Ethan\"],\n",
    "#     \"age\": [25, 30, 45, 28, 50],\n",
    "#     \"salary\": [50000, 60000, 80000, 52000, 95000],\n",
    "#     \"score\": [85, 92, 70, 88, 95]\n",
    "# }\n",
    "\n",
    "# df = pd.DataFrame(data)\n",
    "# print(df)"
   ]
  },
  {
   "cell_type": "code",
   "execution_count": 12,
   "id": "249ca28a",
   "metadata": {},
   "outputs": [],
   "source": [
    "# # Sorting one Column\n",
    "# df.sort_values(by=\"score\",ascending=True,inplace=True)\n",
    "# print(df)"
   ]
  },
  {
   "cell_type": "code",
   "execution_count": 23,
   "id": "0e01812c",
   "metadata": {},
   "outputs": [
    {
     "name": "stdout",
     "output_type": "stream",
     "text": [
      "      name  age  salary  score\n",
      "0    Alice   25   50000     85\n",
      "3    Diana   28   52000     88\n",
      "1      Bob   30   60000     92\n",
      "2  Charlie   45   80000     70\n",
      "4    Ethan   50   95000     95\n"
     ]
    }
   ],
   "source": [
    "# Sort whole Data\n",
    "df.sort_values(by=[\"age\",\"salary\"],ascending=[True,False],inplace=True)\n",
    "print(df)"
   ]
  },
  {
   "cell_type": "code",
   "execution_count": 25,
   "id": "077b8ade",
   "metadata": {},
   "outputs": [
    {
     "name": "stdout",
     "output_type": "stream",
     "text": [
      "35.6\n"
     ]
    }
   ],
   "source": [
    "avg_salary = df['age'].mean()\n",
    "print(avg_salary)"
   ]
  },
  {
   "cell_type": "code",
   "execution_count": 28,
   "id": "3629397f",
   "metadata": {},
   "outputs": [
    {
     "name": "stdout",
     "output_type": "stream",
     "text": [
      "       name  age  salary  score department\n",
      "0     Alice   32   94863     87         HR\n",
      "1       Bob   28   88348     83    Finance\n",
      "2   Charlie   23   91320     76         IT\n",
      "3     Diana   36   87196     60         HR\n",
      "4     Ethan   49   76298     65         IT\n",
      "5     Fiona   50   75588     61    Finance\n",
      "6    George   27   55377     77         HR\n",
      "7    Hannah   56   42738     90         IT\n",
      "8       Ian   24   72077     91    Finance\n",
      "9     Julia   31   59255     80         HR\n",
      "10    Kevin   48   49799     70    Finance\n",
      "11    Laura   29   61904     88         IT\n",
      "12     Mike   42   82745     73    Finance\n",
      "13     Nina   55   82587     71         HR\n",
      "14    Oscar   48   74072     76         IT\n",
      "15    Paula   47   66234     98    Finance\n",
      "16    Quinn   23   87879     82         HR\n",
      "17   Rachel   53   95523     84    Finance\n",
      "18    Steve   45   63206     92         IT\n",
      "19     Tina   53   89724     87         HR\n"
     ]
    }
   ],
   "source": [
    "# GRoup By \n",
    "data = {\n",
    "    \"name\": [\n",
    "        \"Alice\", \"Bob\", \"Charlie\", \"Diana\", \"Ethan\", \n",
    "        \"Fiona\", \"George\", \"Hannah\", \"Ian\", \"Julia\",\n",
    "        \"Kevin\", \"Laura\", \"Mike\", \"Nina\", \"Oscar\",\n",
    "        \"Paula\", \"Quinn\", \"Rachel\", \"Steve\", \"Tina\"\n",
    "    ],\n",
    "    \"age\": np.random.randint(22, 60, size=20),\n",
    "    \"salary\": np.random.randint(40000, 100000, size=20),\n",
    "    \"score\": np.random.randint(60, 100, size=20),\n",
    "    \"department\": [\n",
    "        \"HR\", \"Finance\", \"IT\", \"HR\", \"IT\", \n",
    "        \"Finance\", \"HR\", \"IT\", \"Finance\", \"HR\", \n",
    "        \"Finance\", \"IT\", \"Finance\", \"HR\", \"IT\",\n",
    "        \"Finance\", \"HR\", \"Finance\", \"IT\", \"HR\"\n",
    "    ]\n",
    "}\n",
    "\n",
    "df = pd.DataFrame(data)\n",
    "print(df)"
   ]
  },
  {
   "cell_type": "code",
   "execution_count": 32,
   "id": "8dd9ef45",
   "metadata": {},
   "outputs": [
    {
     "name": "stdout",
     "output_type": "stream",
     "text": [
      "department\n",
      "Finance    75759.142857\n",
      "HR         79554.428571\n",
      "IT         68256.333333\n",
      "Name: salary, dtype: float64\n",
      "department\n",
      "Finance    98\n",
      "HR         87\n",
      "IT         92\n",
      "Name: score, dtype: int32\n",
      "department\n",
      "HR         7\n",
      "Finance    7\n",
      "IT         6\n",
      "Name: count, dtype: int64\n"
     ]
    }
   ],
   "source": [
    "# Average salary per department\n",
    "print(df.groupby(\"department\")[\"salary\"].mean())\n",
    "\n",
    "# Max score per department\n",
    "print(df.groupby(\"department\")[\"score\"].max())\n",
    "\n",
    "# Count of employees per department\n",
    "print(df[\"department\"].value_counts())\n"
   ]
  },
  {
   "cell_type": "code",
   "execution_count": null,
   "id": "e6d83608",
   "metadata": {},
   "outputs": [],
   "source": [
    "# Create an \"age group\" column for second-level grouping\n",
    "df[\"age_group\"] = pd.cut(df[\"age\"], bins=[20, 30, 40, 50, 60], labels=[\"20-30\", \"31-40\", \"41-50\", \"51-60\"])\n",
    "\n",
    "# Multi-column groupby with multiple aggregations\n",
    "result = df.groupby([\"department\", \"age_group\"]).agg({\n",
    "    \"salary\": [\"mean\", \"min\", \"max\"],\n",
    "    \"score\": [\"mean\", \"std\", \"count\"]\n",
    "})\n",
    "\n",
    "print(result)"
   ]
  },
  {
   "cell_type": "code",
   "execution_count": 41,
   "id": "645e62f1",
   "metadata": {},
   "outputs": [
    {
     "name": "stdout",
     "output_type": "stream",
     "text": [
      "\n",
      "🔗 Inner Join:\n",
      "+----+---------------+---------+---------------------+------------+------------+---------------+-----------+\n",
      "|    |   customer_id | name    | email               | location   |   order_id |   order_total | product   |\n",
      "|----+---------------+---------+---------------------+------------+------------+---------------+-----------|\n",
      "|  0 |           101 | Alice   | alice@example.com   | NY         |          1 |           250 | Laptop    |\n",
      "|  1 |           101 | Alice   | alice@example.com   | NY         |          3 |           150 | Mouse     |\n",
      "|  2 |           102 | Bob     | bob@example.com     | CA         |          2 |           300 | Tablet    |\n",
      "|  3 |           102 | Bob     | bob@example.com     | CA         |          6 |           200 | Keyboard  |\n",
      "|  4 |           103 | Charlie | charlie@example.com | TX         |          4 |           400 | Monitor   |\n",
      "+----+---------------+---------+---------------------+------------+------------+---------------+-----------+\n",
      "\n",
      "🔗 Left Join:\n",
      "+----+---------------+---------+---------------------+------------+------------+---------------+-----------+\n",
      "|    |   customer_id | name    | email               | location   |   order_id |   order_total | product   |\n",
      "|----+---------------+---------+---------------------+------------+------------+---------------+-----------|\n",
      "|  0 |           101 | Alice   | alice@example.com   | NY         |          1 |           250 | Laptop    |\n",
      "|  1 |           101 | Alice   | alice@example.com   | NY         |          3 |           150 | Mouse     |\n",
      "|  2 |           102 | Bob     | bob@example.com     | CA         |          2 |           300 | Tablet    |\n",
      "|  3 |           102 | Bob     | bob@example.com     | CA         |          6 |           200 | Keyboard  |\n",
      "|  4 |           103 | Charlie | charlie@example.com | TX         |          4 |           400 | Monitor   |\n",
      "|  5 |           104 | Diana   | diana@example.com   | CA         |        nan |           nan | nan       |\n",
      "|  6 |           105 | Ethan   | ethan@example.com   | NY         |        nan |           nan | nan       |\n",
      "+----+---------------+---------+---------------------+------------+------------+---------------+-----------+\n",
      "\n",
      "🔗 Right Join:\n",
      "+----+---------------+---------+---------------------+------------+------------+---------------+-----------+\n",
      "|    |   customer_id | name    | email               | location   |   order_id |   order_total | product   |\n",
      "|----+---------------+---------+---------------------+------------+------------+---------------+-----------|\n",
      "|  0 |           101 | Alice   | alice@example.com   | NY         |          1 |           250 | Laptop    |\n",
      "|  1 |           102 | Bob     | bob@example.com     | CA         |          2 |           300 | Tablet    |\n",
      "|  2 |           101 | Alice   | alice@example.com   | NY         |          3 |           150 | Mouse     |\n",
      "|  3 |           103 | Charlie | charlie@example.com | TX         |          4 |           400 | Monitor   |\n",
      "|  4 |           106 | nan     | nan                 | nan        |          5 |           500 | Phone     |\n",
      "|  5 |           102 | Bob     | bob@example.com     | CA         |          6 |           200 | Keyboard  |\n",
      "|  6 |           107 | nan     | nan                 | nan        |          7 |           100 | Charger   |\n",
      "+----+---------------+---------+---------------------+------------+------------+---------------+-----------+\n",
      "\n",
      "🔗 Outer Join:\n",
      "+----+---------------+---------+---------------------+------------+------------+---------------+-----------+\n",
      "|    |   customer_id | name    | email               | location   |   order_id |   order_total | product   |\n",
      "|----+---------------+---------+---------------------+------------+------------+---------------+-----------|\n",
      "|  0 |           101 | Alice   | alice@example.com   | NY         |          1 |           250 | Laptop    |\n",
      "|  1 |           101 | Alice   | alice@example.com   | NY         |          3 |           150 | Mouse     |\n",
      "|  2 |           102 | Bob     | bob@example.com     | CA         |          2 |           300 | Tablet    |\n",
      "|  3 |           102 | Bob     | bob@example.com     | CA         |          6 |           200 | Keyboard  |\n",
      "|  4 |           103 | Charlie | charlie@example.com | TX         |          4 |           400 | Monitor   |\n",
      "|  5 |           104 | Diana   | diana@example.com   | CA         |        nan |           nan | nan       |\n",
      "|  6 |           105 | Ethan   | ethan@example.com   | NY         |        nan |           nan | nan       |\n",
      "|  7 |           106 | nan     | nan                 | nan        |          5 |           500 | Phone     |\n",
      "|  8 |           107 | nan     | nan                 | nan        |          7 |           100 | Charger   |\n",
      "+----+---------------+---------+---------------------+------------+------------+---------------+-----------+\n",
      "\n",
      "🔗 Join on Index:\n",
      "+----+---------------+---------+---------------------+------------+------------+---------------+-----------+\n",
      "|    |   customer_id | name    | email               | location   |   order_id |   order_total | product   |\n",
      "|----+---------------+---------+---------------------+------------+------------+---------------+-----------|\n",
      "|  0 |           101 | Alice   | alice@example.com   | NY         |          1 |           250 | Laptop    |\n",
      "|  1 |           101 | Alice   | alice@example.com   | NY         |          3 |           150 | Mouse     |\n",
      "|  2 |           102 | Bob     | bob@example.com     | CA         |          2 |           300 | Tablet    |\n",
      "|  3 |           102 | Bob     | bob@example.com     | CA         |          6 |           200 | Keyboard  |\n",
      "|  4 |           103 | Charlie | charlie@example.com | TX         |          4 |           400 | Monitor   |\n",
      "+----+---------------+---------+---------------------+------------+------------+---------------+-----------+\n",
      "\n",
      "💰 Total Spending per Customer:\n",
      "+----+---------+---------------+\n",
      "|    | name    |   order_total |\n",
      "|----+---------+---------------|\n",
      "|  0 | Alice   |           400 |\n",
      "|  1 | Bob     |           500 |\n",
      "|  2 | Charlie |           400 |\n",
      "+----+---------+---------------+\n"
     ]
    }
   ],
   "source": [
    "\n",
    "from tabulate import tabulate\n",
    "\n",
    "# Customer information\n",
    "customers = pd.DataFrame({\n",
    "    'customer_id': [101, 102, 103, 104, 105],\n",
    "    'name': ['Alice', 'Bob', 'Charlie', 'Diana', 'Ethan'],\n",
    "    'email': ['alice@example.com', 'bob@example.com', 'charlie@example.com', \n",
    "              'diana@example.com', 'ethan@example.com'],\n",
    "    'location': ['NY', 'CA', 'TX', 'CA', 'NY']\n",
    "})\n",
    "\n",
    "# Order information\n",
    "orders = pd.DataFrame({\n",
    "    'order_id': [1, 2, 3, 4, 5, 6, 7],\n",
    "    'customer_id': [101, 102, 101, 103, 106, 102, 107],  # 106 and 107 not in customers\n",
    "    'order_total': [250, 300, 150, 400, 500, 200, 100],\n",
    "    'product': ['Laptop', 'Tablet', 'Mouse', 'Monitor', 'Phone', 'Keyboard', 'Charger']\n",
    "})\n",
    "\n",
    "# Set Pandas display options (optional for notebook display)\n",
    "pd.set_option('display.max_columns', None)\n",
    "pd.set_option('display.width', 1000)\n",
    "\n",
    "# Inner Join\n",
    "inner_join = pd.merge(customers, orders, on='customer_id', how='inner')\n",
    "print(\"\\n🔗 Inner Join:\")\n",
    "print(tabulate(inner_join, headers='keys', tablefmt='psql'))\n",
    "\n",
    "# Left Join\n",
    "left_join = pd.merge(customers, orders, on='customer_id', how='left')\n",
    "print(\"\\n🔗 Left Join:\")\n",
    "print(tabulate(left_join, headers='keys', tablefmt='psql'))\n",
    "\n",
    "# Right Join\n",
    "right_join = pd.merge(customers, orders, on='customer_id', how='right')\n",
    "print(\"\\n🔗 Right Join:\")\n",
    "print(tabulate(right_join, headers='keys', tablefmt='psql'))\n",
    "\n",
    "# Outer Join\n",
    "outer_join = pd.merge(customers, orders, on='customer_id', how='outer')\n",
    "print(\"\\n🔗 Outer Join:\")\n",
    "print(tabulate(outer_join, headers='keys', tablefmt='psql'))\n",
    "\n",
    "# Join on Index\n",
    "customers_indexed = customers.set_index('customer_id')\n",
    "orders_indexed = orders.set_index('customer_id')\n",
    "joined_index = customers_indexed.join(orders_indexed, how='inner')\n",
    "print(\"\\n🔗 Join on Index:\")\n",
    "print(tabulate(joined_index.reset_index(), headers='keys', tablefmt='psql'))\n",
    "\n",
    "# Group by: Total spending\n",
    "total_spending = inner_join.groupby('name')['order_total'].sum().reset_index()\n",
    "print(\"\\n💰 Total Spending per Customer:\")\n",
    "print(tabulate(total_spending, headers='keys', tablefmt='psql'))\n"
   ]
  }
 ],
 "metadata": {
  "kernelspec": {
   "display_name": "venv",
   "language": "python",
   "name": "python3"
  },
  "language_info": {
   "codemirror_mode": {
    "name": "ipython",
    "version": 3
   },
   "file_extension": ".py",
   "mimetype": "text/x-python",
   "name": "python",
   "nbconvert_exporter": "python",
   "pygments_lexer": "ipython3",
   "version": "3.13.0"
  }
 },
 "nbformat": 4,
 "nbformat_minor": 5
}
