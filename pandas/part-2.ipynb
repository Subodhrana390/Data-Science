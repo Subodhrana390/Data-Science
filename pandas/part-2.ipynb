{
 "cells": [
  {
   "cell_type": "code",
   "execution_count": 1,
   "id": "3c8b5aa8",
   "metadata": {},
   "outputs": [],
   "source": [
    "import pandas as pd\n",
    "df = pd.read_json(\"sample_Data.json\")"
   ]
  },
  {
   "cell_type": "code",
   "execution_count": 2,
   "id": "01f5355d",
   "metadata": {},
   "outputs": [
    {
     "name": "stdout",
     "output_type": "stream",
     "text": [
      "      name  age  salary  performance  score\n",
      "0    Alice   25   50000            3     85\n",
      "1      Bob   30   60000            5     92\n",
      "2  Charlie   45   80000            2     70\n",
      "3    Diana   28   52000            3     88\n",
      "4    Ethan   50   95000            5     95\n"
     ]
    }
   ],
   "source": [
    "data = {\n",
    "    \"name\": [\"Alice\", \"Bob\", \"Charlie\", \"Diana\", \"Ethan\"],\n",
    "    \"age\": [25, 30, 45, 28, 50],\n",
    "    \"salary\": [50000, 60000, 80000, 52000, 95000],\n",
    "    \"performance\": [3, 5, 2, 3, 5], \n",
    "    \"score\": [85, 92, 70, 88, 95]\n",
    "}\n",
    "\n",
    "df = pd.DataFrame(data)\n",
    "print(df)"
   ]
  },
  {
   "cell_type": "code",
   "execution_count": 4,
   "id": "6008da87",
   "metadata": {},
   "outputs": [
    {
     "name": "stdout",
     "output_type": "stream",
     "text": [
      "      name  age  salary  performance  score   Bonus\n",
      "0    Alice   25   50000            3     85  5000.0\n",
      "1      Bob   30   60000            5     92  6000.0\n",
      "2  Charlie   45   80000            2     70  8000.0\n",
      "3    Diana   28   52000            3     88  5200.0\n",
      "4    Ethan   50   95000            5     95  9500.0\n"
     ]
    }
   ],
   "source": [
    "df['Bonus']=df['salary']*10/100\n",
    "print(df)"
   ]
  },
  {
   "cell_type": "markdown",
   "id": "e57806a4",
   "metadata": {},
   "source": [
    "# insert Column"
   ]
  },
  {
   "cell_type": "code",
   "execution_count": 5,
   "id": "1450e022",
   "metadata": {},
   "outputs": [],
   "source": [
    "df.insert(0,\"emp_id\",[1,2,3,4,5])"
   ]
  },
  {
   "cell_type": "code",
   "execution_count": null,
   "id": "af654c3c",
   "metadata": {},
   "outputs": [
    {
     "name": "stdout",
     "output_type": "stream",
     "text": [
      "   emp_id     name  age  salary  performance  score   Bonus\n",
      "0       1    Alice   25   50000            3     85  5000.0\n",
      "1       2      Bob   30   60000            5     92  6000.0\n",
      "2       3  Charlie   45   80000            2     70  8000.0\n",
      "3       4    Diana   28   52000            3     88  5200.0\n",
      "4       5    Ethan   50   95000            5     95  9500.0\n"
     ]
    }
   ],
   "source": [
    "print(df)"
   ]
  },
  {
   "cell_type": "code",
   "execution_count": 7,
   "id": "845dbb71",
   "metadata": {},
   "outputs": [
    {
     "name": "stdout",
     "output_type": "stream",
     "text": [
      "   emp_id     name  age  salary  performance  score    Bonus\n",
      "0       1    Alice   25   50000            3     85  10000.0\n",
      "1       2      Bob   30   60000            5     92   6000.0\n",
      "2       3  Charlie   45   80000            2     70   8000.0\n",
      "3       4    Diana   28   52000            3     88   5200.0\n",
      "4       5    Ethan   50   95000            5     95   9500.0\n"
     ]
    }
   ],
   "source": [
    "df.loc[0,\"Bonus\"]=10000\n",
    "print(df)"
   ]
  },
  {
   "cell_type": "code",
   "execution_count": null,
   "id": "4ec3fae7",
   "metadata": {},
   "outputs": [],
   "source": []
  }
 ],
 "metadata": {
  "kernelspec": {
   "display_name": "venv",
   "language": "python",
   "name": "python3"
  },
  "language_info": {
   "codemirror_mode": {
    "name": "ipython",
    "version": 3
   },
   "file_extension": ".py",
   "mimetype": "text/x-python",
   "name": "python",
   "nbconvert_exporter": "python",
   "pygments_lexer": "ipython3",
   "version": "3.13.0"
  }
 },
 "nbformat": 4,
 "nbformat_minor": 5
}
