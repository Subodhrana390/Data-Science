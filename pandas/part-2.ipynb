{
 "cells": [
  {
   "cell_type": "code",
   "execution_count": 1,
   "id": "3c8b5aa8",
   "metadata": {},
   "outputs": [],
   "source": [
    "import pandas as pd\n",
    "df = pd.read_json(\"sample_Data.json\")"
   ]
  },
  {
   "cell_type": "code",
   "execution_count": 2,
   "id": "01f5355d",
   "metadata": {},
   "outputs": [
    {
     "name": "stdout",
     "output_type": "stream",
     "text": [
      "      name  age  salary  performance  score\n",
      "0    Alice   25   50000            3     85\n",
      "1      Bob   30   60000            5     92\n",
      "2  Charlie   45   80000            2     70\n",
      "3    Diana   28   52000            3     88\n",
      "4    Ethan   50   95000            5     95\n"
     ]
    }
   ],
   "source": [
    "data = {\n",
    "    \"name\": [\"Alice\", \"Bob\", \"Charlie\", \"Diana\", \"Ethan\"],\n",
    "    \"age\": [25, 30, 45, 28, 50],\n",
    "    \"salary\": [50000, 60000, 80000, 52000, 95000],\n",
    "    \"performance\": [3, 5, 2, 3, 5], \n",
    "    \"score\": [85, 92, 70, 88, 95]\n",
    "}\n",
    "\n",
    "df = pd.DataFrame(data)\n",
    "print(df)"
   ]
  },
  {
   "cell_type": "code",
   "execution_count": 3,
   "id": "6008da87",
   "metadata": {},
   "outputs": [
    {
     "name": "stdout",
     "output_type": "stream",
     "text": [
      "      name  age  salary  performance  score   Bonus\n",
      "0    Alice   25   50000            3     85  5000.0\n",
      "1      Bob   30   60000            5     92  6000.0\n",
      "2  Charlie   45   80000            2     70  8000.0\n",
      "3    Diana   28   52000            3     88  5200.0\n",
      "4    Ethan   50   95000            5     95  9500.0\n"
     ]
    }
   ],
   "source": [
    "df['Bonus']=df['salary']*10/100\n",
    "print(df)"
   ]
  },
  {
   "cell_type": "markdown",
   "id": "e57806a4",
   "metadata": {},
   "source": [
    "# insert Column"
   ]
  },
  {
   "cell_type": "code",
   "execution_count": 4,
   "id": "1450e022",
   "metadata": {},
   "outputs": [],
   "source": [
    "df.insert(0,\"emp_id\",[1,2,3,4,5])"
   ]
  },
  {
   "cell_type": "code",
   "execution_count": 5,
   "id": "af654c3c",
   "metadata": {},
   "outputs": [
    {
     "name": "stdout",
     "output_type": "stream",
     "text": [
      "   emp_id     name  age  salary  performance  score   Bonus\n",
      "0       1    Alice   25   50000            3     85  5000.0\n",
      "1       2      Bob   30   60000            5     92  6000.0\n",
      "2       3  Charlie   45   80000            2     70  8000.0\n",
      "3       4    Diana   28   52000            3     88  5200.0\n",
      "4       5    Ethan   50   95000            5     95  9500.0\n"
     ]
    }
   ],
   "source": [
    "print(df)"
   ]
  },
  {
   "cell_type": "code",
   "execution_count": 6,
   "id": "845dbb71",
   "metadata": {},
   "outputs": [
    {
     "name": "stdout",
     "output_type": "stream",
     "text": [
      "   emp_id     name  age  salary  performance  score    Bonus\n",
      "0       1    Alice   25   50000            3     85  10000.0\n",
      "1       2      Bob   30   60000            5     92   6000.0\n",
      "2       3  Charlie   45   80000            2     70   8000.0\n",
      "3       4    Diana   28   52000            3     88   5200.0\n",
      "4       5    Ethan   50   95000            5     95   9500.0\n"
     ]
    }
   ],
   "source": [
    "df.loc[0,\"Bonus\"]=10000\n",
    "print(df)"
   ]
  },
  {
   "cell_type": "markdown",
   "id": "4ec3fae7",
   "metadata": {},
   "source": []
  },
  {
   "cell_type": "markdown",
   "id": "2183a3f9",
   "metadata": {},
   "source": [
    "Removing Columns "
   ]
  },
  {
   "cell_type": "code",
   "execution_count": 7,
   "id": "094324dd",
   "metadata": {},
   "outputs": [
    {
     "name": "stdout",
     "output_type": "stream",
     "text": [
      "      name  age  salary  score    Bonus\n",
      "0    Alice   25   50000     85  10000.0\n",
      "1      Bob   30   60000     92   6000.0\n",
      "2  Charlie   45   80000     70   8000.0\n",
      "3    Diana   28   52000     88   5200.0\n",
      "4    Ethan   50   95000     95   9500.0\n"
     ]
    }
   ],
   "source": [
    "df.drop(columns=['performance','emp_id'],inplace=True)\n",
    "print(df)"
   ]
  },
  {
   "cell_type": "markdown",
   "id": "b20f4ead",
   "metadata": {},
   "source": []
  },
  {
   "cell_type": "markdown",
   "id": "ac922dcc",
   "metadata": {},
   "source": [
    "Handling Missing Data in Pandas\n",
    "\n",
    "Missing data is a common issue when working with real-world datasets. Fortunately, Pandas provides a variety of tools to detect, handle, and clean missing data efficiently."
   ]
  },
  {
   "cell_type": "code",
   "execution_count": 8,
   "id": "5273748f",
   "metadata": {},
   "outputs": [
    {
     "name": "stdout",
     "output_type": "stream",
     "text": [
      "A    1\n",
      "B    1\n",
      "C    0\n",
      "dtype: int64\n",
      "     A    B  C\n",
      "0  1.0  0.0  1\n",
      "1  2.0  2.0  2\n",
      "2  0.0  3.0  3\n",
      "3  4.0  4.0  4\n"
     ]
    }
   ],
   "source": [
    "import numpy as np\n",
    "\n",
    "data = {\n",
    "    'A': [1, 2, np.nan, 4],\n",
    "    'B': [np.nan, 2, 3, 4],\n",
    "    'C': [1, 2, 3, 4]\n",
    "}\n",
    "\n",
    "df = pd.DataFrame(data)\n",
    "\n",
    "print(df.isnull().sum())\n",
    "\n",
    "df.fillna(0,inplace=True)\n",
    "\n",
    "print(df)\n",
    "\n"
   ]
  },
  {
   "cell_type": "markdown",
   "id": "c12ee525",
   "metadata": {},
   "source": [
    "Interpolation "
   ]
  },
  {
   "cell_type": "code",
   "execution_count": 15,
   "id": "2da41b72",
   "metadata": {},
   "outputs": [
    {
     "name": "stdout",
     "output_type": "stream",
     "text": [
      "Original DataFrame:\n",
      "      A     B      C\n",
      "0  10.0   5.0    NaN\n",
      "1  20.0   NaN  100.0\n",
      "2   NaN   NaN  110.0\n",
      "3  40.0  20.0    NaN\n",
      "4  50.0  25.0  130.0\n",
      "\n",
      "Interpolated DataFrame:\n",
      "      A     B      C\n",
      "0  10.0   5.0    NaN\n",
      "1  20.0  10.0  100.0\n",
      "2  30.0  15.0  110.0\n",
      "3  40.0  20.0  120.0\n",
      "4  50.0  25.0  130.0\n"
     ]
    }
   ],
   "source": [
    "data = {\n",
    "    'A': [10, 20, np.nan, 40, 50],\n",
    "    'B': [5, np.nan, np.nan, 20, 25],\n",
    "    'C': [np.nan, 100, 110, np.nan, 130]\n",
    "}\n",
    "\n",
    "df = pd.DataFrame(data)\n",
    "\n",
    "print(\"Original DataFrame:\")\n",
    "print(df)\n",
    "\n",
    "df.interpolate(method='linear', axis=0, inplace=True)\n",
    "\n",
    "print(\"\\nInterpolated DataFrame:\")\n",
    "print(df)"
   ]
  },
  {
   "cell_type": "code",
   "execution_count": null,
   "id": "31c10e47",
   "metadata": {},
   "outputs": [],
   "source": []
  }
 ],
 "metadata": {
  "kernelspec": {
   "display_name": "venv",
   "language": "python",
   "name": "python3"
  },
  "language_info": {
   "codemirror_mode": {
    "name": "ipython",
    "version": 3
   },
   "file_extension": ".py",
   "mimetype": "text/x-python",
   "name": "python",
   "nbconvert_exporter": "python",
   "pygments_lexer": "ipython3",
   "version": "3.13.0"
  }
 },
 "nbformat": 4,
 "nbformat_minor": 5
}
