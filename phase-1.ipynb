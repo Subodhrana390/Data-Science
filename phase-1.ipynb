{
 "cells": [
  {
   "cell_type": "markdown",
   "id": "7c639fb7",
   "metadata": {},
   "source": [
    "## NumPy array and basics"
   ]
  },
  {
   "cell_type": "code",
   "execution_count": 2,
   "id": "00cc97ab",
   "metadata": {},
   "outputs": [],
   "source": [
    "import numpy as np "
   ]
  },
  {
   "cell_type": "code",
   "execution_count": 4,
   "id": "1d575e03",
   "metadata": {},
   "outputs": [
    {
     "name": "stdout",
     "output_type": "stream",
     "text": [
      "arr1 :  [ 2  4  6  8 10]\n"
     ]
    }
   ],
   "source": [
    "arr_1d = np.array([1,2,3,4,5]);\n",
    "print(\"arr1 : \",arr_1d*2)"
   ]
  },
  {
   "cell_type": "code",
   "execution_count": 8,
   "id": "dad519ef",
   "metadata": {},
   "outputs": [
    {
     "name": "stdout",
     "output_type": "stream",
     "text": [
      "arr1 :  [1, 2, 3, 4, 5, 1, 2, 3, 4, 5]\n",
      "\n",
      " List operation time : 0.3616664409637451\n",
      "\n",
      " Numpy operation time : 0.0014834403991699219\n"
     ]
    }
   ],
   "source": [
    "arr_1d = [1,2,3,4,5]\n",
    "print(\"arr1 : \",arr_1d*2)\n",
    "\n",
    "import time\n",
    "start = time.time()\n",
    "py_list =[i*2 for i in range(1000000)]\n",
    "print(\"\\n List operation time :\",time.time()-start)\n",
    "\n",
    "start = time.time()\n",
    "arr_1d = np.arange(100000)*2\n",
    "print(\"\\n Numpy operation time :\",time.time()-start)\n",
    "\n"
   ]
  },
  {
   "cell_type": "code",
   "execution_count": 10,
   "id": "5071127b",
   "metadata": {},
   "outputs": [
    {
     "name": "stdout",
     "output_type": "stream",
     "text": [
      "[[0. 0. 0. 0.]\n",
      " [0. 0. 0. 0.]\n",
      " [0. 0. 0. 0.]]\n",
      "[[1. 1. 1. 1.]\n",
      " [1. 1. 1. 1.]\n",
      " [1. 1. 1. 1.]]\n"
     ]
    }
   ],
   "source": [
    "zeros = np.zeros((3,4))\n",
    "print(zeros)\n",
    "\n",
    "ones = np.ones((3,4))\n",
    "print(ones)"
   ]
  },
  {
   "cell_type": "code",
   "execution_count": 13,
   "id": "060dfb57",
   "metadata": {},
   "outputs": [
    {
     "name": "stdout",
     "output_type": "stream",
     "text": [
      "[[7 7]\n",
      " [7 7]]\n",
      "[[0.55113527 0.05130381 0.4003309 ]\n",
      " [0.31535079 0.51955772 0.41199731]]\n"
     ]
    }
   ],
   "source": [
    "full = np.full((2,2),7)\n",
    "print(full)\n",
    "\n",
    "random =np.random.random((2,3))\n",
    "print(random)\n"
   ]
  },
  {
   "cell_type": "code",
   "execution_count": 14,
   "id": "eb346721",
   "metadata": {},
   "outputs": [
    {
     "name": "stdout",
     "output_type": "stream",
     "text": [
      "[0 2 4 6 8]\n"
     ]
    }
   ],
   "source": [
    "sequence = np.arange(0,10,2)\n",
    "print(sequence)"
   ]
  },
  {
   "cell_type": "code",
   "execution_count": 15,
   "id": "bf767444",
   "metadata": {},
   "outputs": [
    {
     "name": "stdout",
     "output_type": "stream",
     "text": [
      "[1 2 3]\n"
     ]
    }
   ],
   "source": [
    "vector = np.array([1,2,3])\n",
    "print(vector)"
   ]
  },
  {
   "cell_type": "code",
   "execution_count": 16,
   "id": "8cc7f4f5",
   "metadata": {},
   "outputs": [
    {
     "name": "stdout",
     "output_type": "stream",
     "text": [
      "[[[1 2]\n",
      "  [3 4]]\n",
      "\n",
      " [[3 4]\n",
      "  [1 4]]]\n"
     ]
    }
   ],
   "source": [
    "tensor = np.array([[[1,2],[3,4]],[[3,4],[1,4]]])\n",
    "print(tensor)"
   ]
  },
  {
   "cell_type": "markdown",
   "id": "463ebbb5",
   "metadata": {},
   "source": [
    "## Array Properties"
   ]
  },
  {
   "cell_type": "code",
   "execution_count": 21,
   "id": "b0e9369e",
   "metadata": {},
   "outputs": [
    {
     "name": "stdout",
     "output_type": "stream",
     "text": [
      "(2, 3)\n",
      "2\n",
      "6\n",
      "int64\n"
     ]
    }
   ],
   "source": [
    "arr=np.array([[1,2,3],[4,5,6]])\n",
    "print(arr.shape)\n",
    "print(arr.ndim)\n",
    "print(arr.size)\n",
    "print(arr.dtype)"
   ]
  },
  {
   "cell_type": "markdown",
   "id": "d8cd94fd",
   "metadata": {},
   "source": [
    "## Array Reshaping\n"
   ]
  },
  {
   "cell_type": "code",
   "execution_count": 24,
   "id": "8c450f9f",
   "metadata": {},
   "outputs": [
    {
     "name": "stdout",
     "output_type": "stream",
     "text": [
      "[ 0  1  2  3  4  5  6  7  8  9 10 11]\n",
      "[[ 0  1  2  3]\n",
      " [ 4  5  6  7]\n",
      " [ 8  9 10 11]]\n",
      "[[ 0  4  8]\n",
      " [ 1  5  9]\n",
      " [ 2  6 10]\n",
      " [ 3  7 11]]\n"
     ]
    }
   ],
   "source": [
    "arr = np.arange(12)\n",
    "print(arr)\n",
    "\n",
    "reshaped = arr.reshape(3,4)\n",
    "print(reshaped)\n",
    "\n",
    "transpose = reshaped.T\n",
    "print(transpose)"
   ]
  },
  {
   "cell_type": "code",
   "execution_count": null,
   "id": "33b75f4b",
   "metadata": {},
   "outputs": [],
   "source": []
  }
 ],
 "metadata": {
  "kernelspec": {
   "display_name": "venv",
   "language": "python",
   "name": "python3"
  },
  "language_info": {
   "codemirror_mode": {
    "name": "ipython",
    "version": 3
   },
   "file_extension": ".py",
   "mimetype": "text/x-python",
   "name": "python",
   "nbconvert_exporter": "python",
   "pygments_lexer": "ipython3",
   "version": "3.13.0"
  }
 },
 "nbformat": 4,
 "nbformat_minor": 5
}
