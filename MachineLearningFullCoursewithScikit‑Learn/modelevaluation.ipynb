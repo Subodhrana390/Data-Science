{
 "cells": [
  {
   "cell_type": "code",
   "execution_count": 1,
   "id": "c92ea78f",
   "metadata": {},
   "outputs": [
    {
     "name": "stdout",
     "output_type": "stream",
     "text": [
      "0.42857142857142855\n",
      "0.5\n",
      "0.75\n",
      "0.6\n"
     ]
    }
   ],
   "source": [
    "from sklearn.metrics import accuracy_score,precision_score,recall_score,f1_score\n",
    "\n",
    "y_true=[1,0,1,0,0,1,1];\n",
    "y_pred=[1,1,0,1,1,1,1]\n",
    "\n",
    "print(accuracy_score(y_true,y_pred))\n",
    "print(precision_score(y_true,y_pred))\n",
    "print(recall_score(y_true,y_pred))\n",
    "print(f1_score(y_true,y_pred))"
   ]
  },
  {
   "cell_type": "code",
   "execution_count": 2,
   "id": "90056e75",
   "metadata": {},
   "outputs": [
    {
     "name": "stdout",
     "output_type": "stream",
     "text": [
      "Confusion Matrix\n",
      "[[0 3]\n",
      " [1 3]]\n"
     ]
    }
   ],
   "source": [
    "from sklearn.metrics import confusion_matrix\n",
    "\n",
    "y_true=[1,0,1,0,0,1,1];\n",
    "y_pred=[1,1,0,1,1,1,1]\n",
    "\n",
    "cm = confusion_matrix(y_true,y_pred)\n",
    "print(\"Confusion Matrix\")\n",
    "print(cm)"
   ]
  },
  {
   "cell_type": "code",
   "execution_count": 3,
   "id": "7f25ce91",
   "metadata": {},
   "outputs": [
    {
     "name": "stdout",
     "output_type": "stream",
     "text": [
      "MAE - 7.5\n",
      "MSE - 62.5\n",
      "RMSE - 7.905694150420948\n"
     ]
    }
   ],
   "source": [
    "\"\"\"\n",
    "Mean Average Error\n",
    "1 - take the mistake difference\n",
    "2 - remove the minus sign\n",
    "3- add\n",
    "4 - divide\n",
    "5 - average \n",
    "\n",
    "MAE - 7.5\n",
    "\n",
    "MSE Mean Square Error\n",
    "1 - Mistake square them\n",
    "2- add \n",
    "3 -divide total\n",
    "\n",
    "MSE - 62.5\n",
    "\n",
    "RSME - root square mean error\n",
    "\"\"\"\n",
    "\n",
    "from sklearn.metrics import mean_absolute_error, mean_squared_error\n",
    "import numpy as np\n",
    "\n",
    "real_score = [90, 60, 80, 100]\n",
    "predicted_score = [85, 70, 70, 95]\n",
    "\n",
    "mae = mean_absolute_error(real_score, predicted_score)\n",
    "mse = mean_squared_error(real_score, predicted_score)\n",
    "rmse = np.sqrt(mse)\n",
    "\n",
    "print(\"MAE -\", mae)\n",
    "print(\"MSE -\", mse)\n",
    "print(\"RMSE -\", rmse)"
   ]
  },
  {
   "cell_type": "code",
   "execution_count": null,
   "id": "2740cb94",
   "metadata": {},
   "outputs": [],
   "source": []
  }
 ],
 "metadata": {
  "kernelspec": {
   "display_name": "venv",
   "language": "python",
   "name": "python3"
  },
  "language_info": {
   "codemirror_mode": {
    "name": "ipython",
    "version": 3
   },
   "file_extension": ".py",
   "mimetype": "text/x-python",
   "name": "python",
   "nbconvert_exporter": "python",
   "pygments_lexer": "ipython3",
   "version": "3.13.0"
  }
 },
 "nbformat": 4,
 "nbformat_minor": 5
}
